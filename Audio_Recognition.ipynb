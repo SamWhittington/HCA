{
  "nbformat": 4,
  "nbformat_minor": 0,
  "metadata": {
    "colab": {
      "name": "Audio Recognition.ipynb",
      "provenance": [],
      "collapsed_sections": []
    },
    "kernelspec": {
      "name": "python3",
      "display_name": "Python 3"
    },
    "language_info": {
      "name": "python"
    }
  },
  "cells": [
    {
      "cell_type": "code",
      "execution_count": 1,
      "metadata": {
        "colab": {
          "base_uri": "https://localhost:8080/"
        },
        "id": "21QsC7Kfuc-U",
        "outputId": "c3ecfa16-b5fb-4484-dd90-2a5466eb9bf5"
      },
      "outputs": [
        {
          "output_type": "stream",
          "name": "stdout",
          "text": [
            "Collecting deepgram-sdk\n",
            "  Downloading deepgram_sdk-0.2.1-py3-none-any.whl (12 kB)\n",
            "Collecting aiohttp\n",
            "  Downloading aiohttp-3.8.1-cp37-cp37m-manylinux_2_5_x86_64.manylinux1_x86_64.manylinux_2_12_x86_64.manylinux2010_x86_64.whl (1.1 MB)\n",
            "\u001b[K     |████████████████████████████████| 1.1 MB 5.1 MB/s \n",
            "\u001b[?25hCollecting websockets\n",
            "  Downloading websockets-10.1-cp37-cp37m-manylinux_2_5_x86_64.manylinux1_x86_64.manylinux_2_12_x86_64.manylinux2010_x86_64.whl (111 kB)\n",
            "\u001b[K     |████████████████████████████████| 111 kB 40.8 MB/s \n",
            "\u001b[?25hRequirement already satisfied: typing-extensions in /usr/local/lib/python3.7/dist-packages (from deepgram-sdk) (3.10.0.2)\n",
            "Collecting yarl<2.0,>=1.0\n",
            "  Downloading yarl-1.7.2-cp37-cp37m-manylinux_2_5_x86_64.manylinux1_x86_64.manylinux_2_12_x86_64.manylinux2010_x86_64.whl (271 kB)\n",
            "\u001b[K     |████████████████████████████████| 271 kB 61.5 MB/s \n",
            "\u001b[?25hCollecting asynctest==0.13.0\n",
            "  Downloading asynctest-0.13.0-py3-none-any.whl (26 kB)\n",
            "Collecting multidict<7.0,>=4.5\n",
            "  Downloading multidict-5.2.0-cp37-cp37m-manylinux_2_5_x86_64.manylinux1_x86_64.manylinux_2_12_x86_64.manylinux2010_x86_64.whl (160 kB)\n",
            "\u001b[K     |████████████████████████████████| 160 kB 67.9 MB/s \n",
            "\u001b[?25hRequirement already satisfied: charset-normalizer<3.0,>=2.0 in /usr/local/lib/python3.7/dist-packages (from aiohttp->deepgram-sdk) (2.0.10)\n",
            "Requirement already satisfied: attrs>=17.3.0 in /usr/local/lib/python3.7/dist-packages (from aiohttp->deepgram-sdk) (21.4.0)\n",
            "Collecting async-timeout<5.0,>=4.0.0a3\n",
            "  Downloading async_timeout-4.0.2-py3-none-any.whl (5.8 kB)\n",
            "Collecting frozenlist>=1.1.1\n",
            "  Downloading frozenlist-1.3.0-cp37-cp37m-manylinux_2_5_x86_64.manylinux1_x86_64.manylinux_2_17_x86_64.manylinux2014_x86_64.whl (144 kB)\n",
            "\u001b[K     |████████████████████████████████| 144 kB 76.1 MB/s \n",
            "\u001b[?25hCollecting aiosignal>=1.1.2\n",
            "  Downloading aiosignal-1.2.0-py3-none-any.whl (8.2 kB)\n",
            "Requirement already satisfied: idna>=2.0 in /usr/local/lib/python3.7/dist-packages (from yarl<2.0,>=1.0->aiohttp->deepgram-sdk) (2.10)\n",
            "Installing collected packages: multidict, frozenlist, yarl, asynctest, async-timeout, aiosignal, websockets, aiohttp, deepgram-sdk\n",
            "Successfully installed aiohttp-3.8.1 aiosignal-1.2.0 async-timeout-4.0.2 asynctest-0.13.0 deepgram-sdk-0.2.1 frozenlist-1.3.0 multidict-5.2.0 websockets-10.1 yarl-1.7.2\n"
          ]
        }
      ],
      "source": [
        "!pip install deepgram-sdk"
      ]
    },
    {
      "cell_type": "code",
      "source": [
        "%%writefile deepgram_test.py\n",
        "from deepgram import Deepgram\n",
        "import asyncio, json\n",
        "\n",
        "# The API key you created in step 1\n",
        "DEEPGRAM_API_KEY = 'd65c64d60bd88adb0b65ec52770bc069e96723c5'\n",
        "\n",
        "AUDIO_URL = 'https://static.deepgram.com/examples/Bueller-Life-moves-pretty-fast.wav'\n",
        "\n",
        "async def main():\n",
        "    # Initializes the Deepgram SDK\n",
        "    dg_client = Deepgram(DEEPGRAM_API_KEY)\n",
        "    source = {'url': AUDIO_URL}\n",
        "\n",
        "    # print('Requesting transcript...')\n",
        "    # print('Your file may take up to a couple minutes to process.')\n",
        "    # print('While you wait, did you know that Deepgram accepts over 40 audio file formats? Even MP4s.')\n",
        "    # print('To learn more about customizing your transcripts check out developers.deepgram.com.')\n",
        "\n",
        "    response = await dg_client.transcription.prerecorded(source,  {'punctuate': True})\n",
        "    print(json.dumps(response, indent=4))\n",
        "\n",
        "asyncio.run(main())"
      ],
      "metadata": {
        "colab": {
          "base_uri": "https://localhost:8080/"
        },
        "id": "Va5KmVfEu0lE",
        "outputId": "3a99e8b0-352f-47eb-90f5-ebf5d10badbd"
      },
      "execution_count": 5,
      "outputs": [
        {
          "output_type": "stream",
          "name": "stdout",
          "text": [
            "Overwriting deepgram_test.py\n"
          ]
        }
      ]
    },
    {
      "cell_type": "code",
      "source": [
        "!python deepgram_test.py > text.json"
      ],
      "metadata": {
        "id": "WnIH3yPCu8JX"
      },
      "execution_count": 6,
      "outputs": []
    },
    {
      "cell_type": "code",
      "source": [
        "import re\n",
        "import json\n",
        "import math\n",
        "\n",
        "file = open('text.json', 'r')\n",
        "res = []\n",
        "for lne in file:\n",
        "  # print(lne)e\n",
        "  lst = re.findall('\"transcript\": \"(.*)\"', lne)\n",
        "  if(len(lst)>0):\n",
        "    print(lst[0])\n",
        "    break\n",
        "# print(res)"
      ],
      "metadata": {
        "colab": {
          "base_uri": "https://localhost:8080/"
        },
        "id": "7Ob7aBjSu9Xf",
        "outputId": "43a8e769-4b12-4194-cd53-fd942c3dcdfa"
      },
      "execution_count": 16,
      "outputs": [
        {
          "output_type": "stream",
          "name": "stdout",
          "text": [
            "Yep. I said it before, and I'll say it again. Life moves pretty fast. You don't stop and look around once in a while. You could miss it.\n"
          ]
        }
      ]
    },
    {
      "cell_type": "markdown",
      "source": [
        "# Real time audio (no need)"
      ],
      "metadata": {
        "id": "2XFCXbC0y2LE"
      }
    },
    {
      "cell_type": "code",
      "source": [
        "%%writefile deepgram_test_streaming.py\n",
        "from deepgram import Deepgram\n",
        "import asyncio, json\n",
        "\n",
        "# The API key you created in step 1\n",
        "DEEPGRAM_API_KEY = 'd65c64d60bd88adb0b65ec52770bc069e96723c5'\n",
        "\n",
        "# Name and extension of the file you downloaded (e.g. sample.wav)\n",
        "PATH_TO_FILE = 'Bueller-Life-moves-pretty-fast.wav'\n",
        "\n",
        "async def main():\n",
        "    # Initializes the Deepgram SDK\n",
        "    dg_client = Deepgram(DEEPGRAM_API_KEY)\n",
        "\n",
        "    # Creates a websocket connection to Deepgram\n",
        "    socket = await dg_client.transcription.live({'punctuate': True})\n",
        "\n",
        "    # print('Connection Opened!')\n",
        "\n",
        "    # Handle sending audio to the socket\n",
        "    async def process_audio(connection):\n",
        "        # Grab your audio file\n",
        "        with open(PATH_TO_FILE, 'rb') as audio:\n",
        "            # Chunk up the audio to send\n",
        "            CHUNK_SIZE_BYTES = 8192\n",
        "            CHUNK_RATE_SEC = 0.001\n",
        "            chunk = audio.read(CHUNK_SIZE_BYTES)\n",
        "            while chunk:\n",
        "                connection.send(chunk)\n",
        "                await asyncio.sleep(CHUNK_RATE_SEC)\n",
        "                chunk = audio.read(CHUNK_SIZE_BYTES)\n",
        "\n",
        "            # Indicate that we've finished sending data\n",
        "            await connection.finish()\n",
        "\n",
        "    # Receive transcriptions based on sent streams and write them to the console\n",
        "    socket.register_handler(socket.event.CLOSE, lambda _: print('Connection closed.'))\n",
        "\n",
        "    # Print incoming transcription objects\n",
        "    socket.register_handler(socket.event.TRANSCRIPT_RECEIVED, print)\n",
        "\n",
        "    # Send the audio to the socket\n",
        "    await process_audio(socket)\n",
        "\n",
        "asyncio.run(main())"
      ],
      "metadata": {
        "colab": {
          "base_uri": "https://localhost:8080/"
        },
        "id": "9YeQPoYey4ni",
        "outputId": "05a34580-da6b-4347-bcc4-e31ec57003f8"
      },
      "execution_count": 20,
      "outputs": [
        {
          "output_type": "stream",
          "name": "stdout",
          "text": [
            "Overwriting deepgram_test_streaming.py\n"
          ]
        }
      ]
    },
    {
      "cell_type": "code",
      "source": [
        "!python deepgram_test_streaming.py > text_streaming.json"
      ],
      "metadata": {
        "id": "2AGOnWXo0LlM"
      },
      "execution_count": 19,
      "outputs": []
    }
  ]
}